{
 "cells": [
  {
   "cell_type": "code",
   "execution_count": 1,
   "metadata": {},
   "outputs": [
    {
     "name": "stderr",
     "output_type": "stream",
     "text": [
      "2022-03-26 20:18:45.228253: W tensorflow/stream_executor/platform/default/dso_loader.cc:64] Could not load dynamic library 'libcudart.so.11.0'; dlerror: libcudart.so.11.0: cannot open shared object file: No such file or directory; LD_LIBRARY_PATH: /cm/shared/apps/slurm/16.05.8/lib64/slurm:/cm/shared/apps/slurm/16.05.8/lib64\n",
      "2022-03-26 20:18:45.228285: I tensorflow/stream_executor/cuda/cudart_stub.cc:29] Ignore above cudart dlerror if you do not have a GPU set up on your machine.\n"
     ]
    }
   ],
   "source": [
    "import os \n",
    "import numpy as np \n",
    "import pandas as pd \n",
    "import tensorflow as tf\n",
    "import pickle\n",
    "import copy\n",
    "os.chdir(\"/endosome/work/PCDC/s202005/Research/TransferLearning/Shelburne/Codes\")\n",
    "from general.commonfuns import *"
   ]
  },
  {
   "cell_type": "code",
   "execution_count": 7,
   "metadata": {
    "collapsed": true
   },
   "outputs": [],
   "source": [
    "PARPData = pd.read_pickle('/work/PCDC/s202005/Research/TransferLearning/CF/Data/Train_Test_Data/Model_0_PARP/Train_Data.pkl')\n",
    "Antibiotics_Index = PARPData[[\"Antibiotics\",\"Antibiotics_Index\"]].drop_duplicates().sort_values(\"Antibiotics_Index\")\n",
    "Antibiotics_Index.to_csv(\"/work/PCDC/s202005/Research/common/Data/genetic_data/supp_data/Antibiotics_Index_Color_3nd_Version_33.csv\",index=False)"
   ]
  },
  {
   "cell_type": "markdown",
   "metadata": {},
   "source": [
    "## Step 1: Generate full dataset using shelburne"
   ]
  },
  {
   "cell_type": "code",
   "execution_count": 24,
   "metadata": {
    "collapsed": true
   },
   "outputs": [],
   "source": [
    "data_dic = \"/work/PCDC/s202005/Research/common/Data/genetic_data/purified_data\"\n",
    "temp_path = os.path.join(data_dic,\"Shelburne_VAMP.csv\")\n",
    "VAMP = pd.read_csv(temp_path)\n",
    "\n",
    "temp_path = os.path.join(data_dic,\"Shelburne_phenotype.csv\")\n",
    "TYPE = pd.read_csv(temp_path)\n",
    "TYPE.set_index(\"sample_id\",inplace=True)\n",
    "\n",
    "pivot_m = VAMP.pivot_table(index=\"sample_id\",columns=\"variants\",aggfunc=\"size\",fill_value=0)\n",
    "temp = pd.merge(TYPE,pivot_m,how = \"left\",left_index=True,right_index = True)"
   ]
  },
  {
   "cell_type": "code",
   "execution_count": 25,
   "metadata": {
    "collapsed": true
   },
   "outputs": [],
   "source": [
    "## modify Antibiotics value \n",
    "anti_index_list = pd.read_csv(\"/work/PCDC/s202005/Research/common/Data/genetic_data/supp_data/Antibiotics_Index_Color.csv\")\n",
    "anti_index_list = anti_index_list[[\"Antibiotics\",\"Index\"]]\n",
    "anti_index_list.rename(columns={\"Index\":\"antibiotics_index\"},inplace=True)\n",
    "temp = pd.merge(temp,anti_index_list,how=\"left\",left_on = \"antibiotics\",right_on = \"Antibiotics\")\n",
    "temp.drop([\"Antibiotics\"],axis=1,inplace=True)"
   ]
  },
  {
   "cell_type": "code",
   "execution_count": 26,
   "metadata": {
    "collapsed": true
   },
   "outputs": [],
   "source": [
    "## modify Bacteria value \n",
    "bact_index_list =  pd.read_csv(\"/work/PCDC/s202005/Research/common/Data/genetic_data/supp_data/Bacteria_Index_Color.csv\")\n",
    "bact_index_list = bact_index_list[[\"Bacteria\",\"Index\"]]\n",
    "bact_index_list.rename(columns={\"Index\":\"bacteria_index\"},inplace=True)\n",
    "temp = pd.merge(temp,bact_index_list,how=\"left\",left_on = \"bacteria\",right_on = \"Bacteria\")\n",
    "temp.drop([\"Bacteria\"],axis=1,inplace=True)\n",
    "temp.index = TYPE.index\n",
    "\n",
    "## modify phenotype value \n",
    "temp[\"phenotypenum\"] = temp.apply(lambda x: 1 if x[\"phenotype\"]==\"resistant\" else 0, axis=1)"
   ]
  },
  {
   "cell_type": "code",
   "execution_count": 28,
   "metadata": {
    "collapsed": true
   },
   "outputs": [],
   "source": [
    "## change column order \n",
    "col_list = [\"bacteria\",\"bacteria_index\",\"antibiotics\",\"antibiotics_index\",\"phenotype\",\"phenotypenum\"] + [ele for ele in temp.columns if ele.startswith(\"K\")]\n",
    "temp = temp[col_list]"
   ]
  },
  {
   "cell_type": "code",
   "execution_count": 30,
   "metadata": {
    "collapsed": true
   },
   "outputs": [],
   "source": [
    "save_dic = \"/work/PCDC/s202005/Research/TransferLearning/Shelburne/Data/Train\"\n",
    "os.makedirs(save_dic,exist_ok=True)\n",
    "temp.to_pickle(os.path.join(save_dic,\"shelburne_full.pkl\"))"
   ]
  },
  {
   "cell_type": "markdown",
   "metadata": {},
   "source": [
    "## Step 2: Generate information table for TransferLearning"
   ]
  },
  {
   "cell_type": "code",
   "execution_count": 11,
   "metadata": {
    "collapsed": true
   },
   "outputs": [],
   "source": [
    "temp = open_pickle(\"/work/PCDC/s202005/Research/TransferLearning/Shelburne/Data/Train/shelburne_full.pkl\")\n",
    "temp.dropna(inplace=True)"
   ]
  },
  {
   "cell_type": "code",
   "execution_count": 15,
   "metadata": {
    "collapsed": true
   },
   "outputs": [],
   "source": [
    "Antibiotics_Index = pd.read_csv(\"/work/PCDC/s202005/Research/common/Data/genetic_data/supp_data/Antibiotics_Index_Color_3nd_Version_33.csv\")"
   ]
  },
  {
   "cell_type": "code",
   "execution_count": 27,
   "metadata": {
    "collapsed": true
   },
   "outputs": [],
   "source": [
    "temp2 = pd.merge(temp,Antibiotics_Index,how=\"left\",left_on=\"antibiotics\",right_on=\"Antibiotics\")\n",
    "temp2.drop([\"antibiotics\",\"antibiotics_index\"],axis=1,inplace=True)\n",
    "temp2.rename(columns={\"Antibiotics\":\"antibiotics\",\"Antibiotics_Index\":\"antibiotics_index\"},inplace=True)"
   ]
  },
  {
   "cell_type": "code",
   "execution_count": 28,
   "metadata": {
    "collapsed": true
   },
   "outputs": [],
   "source": [
    "## change column order \n",
    "col_list = [\"bacteria\",\"bacteria_index\",\"antibiotics\",\"antibiotics_index\",\"phenotype\",\"phenotypenum\"] + [ele for ele in temp.columns if ele.startswith(\"K\")]\n",
    "temp2 = temp2[col_list]"
   ]
  },
  {
   "cell_type": "code",
   "execution_count": 32,
   "metadata": {
    "collapsed": true
   },
   "outputs": [],
   "source": [
    "col_order = list(temp2.columns[6:])\n",
    "col_order = pd.DataFrame(col_order,columns=[\"col_order\"])\n",
    "save_dic = \"/work/PCDC/s202005/Research/TransferLearning/Shelburne/Data/Train/TLPARP\"\n",
    "os.makedirs(save_dic,exist_ok=True)\n",
    "col_order.to_csv(os.path.join(save_dic,\"shelburne_col_order.csv\"),index=False)"
   ]
  },
  {
   "cell_type": "code",
   "execution_count": 33,
   "metadata": {
    "collapsed": true
   },
   "outputs": [],
   "source": [
    "temp2.iloc[:,:6].to_csv(\"/work/PCDC/s202005/Research/TransferLearning/Shelburne/Data/Train/TLPARP/shelburne_info.csv\")"
   ]
  },
  {
   "cell_type": "code",
   "execution_count": 35,
   "metadata": {
    "collapsed": true
   },
   "outputs": [],
   "source": [
    "save_dic = \"/work/PCDC/s202005/Research/TransferLearning/Shelburne/Data/Train/TLPARP\"\n",
    "os.makedirs(save_dic,exist_ok=True)\n",
    "temp2.to_pickle(os.path.join(save_dic,\"shelburne_full.pkl\"))"
   ]
  },
  {
   "cell_type": "markdown",
   "metadata": {},
   "source": [
    "## Step 3: generate 3 sets for the transferlearning from the 2nd "
   ]
  },
  {
   "cell_type": "code",
   "execution_count": 36,
   "metadata": {
    "collapsed": true
   },
   "outputs": [],
   "source": [
    "col_list = pd.read_csv(\"/work/PCDC/s202005/Research/TransferLearning/Shelburne/Data/Train/TLPARP/shelburne_col_order.csv\")\n",
    "col_list = list(col_list.col_order)"
   ]
  },
  {
   "cell_type": "code",
   "execution_count": 37,
   "metadata": {
    "collapsed": true
   },
   "outputs": [],
   "source": [
    "temp = open_pickle(\"/work/PCDC/s202005/Research/TransferLearning/Shelburne/Data/Train/TLPARP/shelburne_full.pkl\")"
   ]
  },
  {
   "cell_type": "code",
   "execution_count": 44,
   "metadata": {
    "collapsed": true
   },
   "outputs": [],
   "source": [
    "## get variants\n",
    "Variants = temp[col_list]"
   ]
  },
  {
   "cell_type": "code",
   "execution_count": 45,
   "metadata": {
    "collapsed": true
   },
   "outputs": [],
   "source": [
    "## get Antibiotics\n",
    "## Since we want to put it into PARP transfer learning, we need to use the PARP num classes of Antibiotics \n",
    "Antibiotics=tf.keras.utils.to_categorical(temp[\"antibiotics_index\"],num_classes = 33)\n",
    "Antibiotics = pd.DataFrame(Antibiotics)\n",
    "Antibiotics.index = Variants.index"
   ]
  },
  {
   "cell_type": "code",
   "execution_count": 46,
   "metadata": {
    "collapsed": true
   },
   "outputs": [],
   "source": [
    "## get Results \n",
    "Results = copy.deepcopy(temp[[\"phenotypenum\"]])\n",
    "Results.rename(columns={\"phenotypenum\":\"Results\"},inplace=True)"
   ]
  },
  {
   "cell_type": "code",
   "execution_count": 47,
   "metadata": {
    "collapsed": true
   },
   "outputs": [],
   "source": [
    "data = (Variants,Antibiotics,Results)\n",
    "path = \"/work/PCDC/s202005/Research/TransferLearning/Shelburne/Data/Train/TLPARP/shelburne_3sets.pkl\"\n",
    "save_as_pickle(data,path)"
   ]
  },
  {
   "cell_type": "markdown",
   "metadata": {},
   "source": [
    "##  Step 4: generate 3 sets for the transferlearning from the 2nd "
   ]
  },
  {
   "cell_type": "code",
   "execution_count": 5,
   "metadata": {
    "collapsed": true
   },
   "outputs": [],
   "source": [
    "col_list = pd.read_csv(\"/work/PCDC/s202005/Research/TransferLearning/Shelburne/Data/Train/TLPARP/shelburne_col_order.csv\")\n",
    "col_list = list(col_list.col_order)\n",
    "temp = open_pickle(\"/work/PCDC/s202005/Research/TransferLearning/Shelburne/Data/Train/TLPARP/shelburne_full.pkl\")"
   ]
  },
  {
   "cell_type": "code",
   "execution_count": 8,
   "metadata": {
    "collapsed": true
   },
   "outputs": [],
   "source": [
    "from sklearn.model_selection import train_test_split\n",
    "Train,Test = train_test_split(temp, test_size=0.33, random_state=42)"
   ]
  },
  {
   "cell_type": "code",
   "execution_count": 13,
   "metadata": {
    "collapsed": true
   },
   "outputs": [],
   "source": [
    "Train.sort_index(inplace=True)\n",
    "Test.sort_index(inplace=True)"
   ]
  },
  {
   "cell_type": "code",
   "execution_count": 19,
   "metadata": {
    "collapsed": true
   },
   "outputs": [],
   "source": [
    "save_dic = \"/work/PCDC/s202005/Research/TransferLearning/Shelburne/Data/Train/TLPARP_TrainTest\"\n",
    "os.makedirs(save_dic,exist_ok=True)\n",
    "Train.iloc[:,:6].to_csv(os.path.join(save_dic,\"shelburne_train_info.csv\"))\n",
    "Test.iloc[:,:6].to_csv(os.path.join(save_dic,\"shelburne_test_info.csv\"))"
   ]
  },
  {
   "cell_type": "code",
   "execution_count": 22,
   "metadata": {
    "collapsed": true
   },
   "outputs": [],
   "source": [
    "save_dic = \"/work/PCDC/s202005/Research/TransferLearning/Shelburne/Data/Train/TLPARP_TrainTest\"\n",
    "\n",
    "temp = copy.deepcopy(Test)\n",
    "Variants = temp[col_list]\n",
    "Antibiotics=tf.keras.utils.to_categorical(temp[\"antibiotics_index\"],num_classes = 33)\n",
    "Antibiotics = pd.DataFrame(Antibiotics)\n",
    "Antibiotics.index = Variants.index\n",
    "\n",
    "Results = copy.deepcopy(temp[[\"phenotypenum\"]])\n",
    "Results.rename(columns={\"phenotypenum\":\"Results\"},inplace=True)\n",
    "\n",
    "data = (Variants,Antibiotics,Results)\n",
    "path = os.path.join(save_dic,\"shelburne_test_3sets.pkl\")\n",
    "save_as_pickle(data,path)"
   ]
  }
 ],
 "metadata": {
  "kernelspec": {
   "display_name": "Research",
   "language": "python",
   "name": "research"
  },
  "language_info": {
   "codemirror_mode": {
    "name": "ipython",
    "version": 3
   },
   "file_extension": ".py",
   "mimetype": "text/x-python",
   "name": "python",
   "nbconvert_exporter": "python",
   "pygments_lexer": "ipython3",
   "version": "3.9.7"
  }
 },
 "nbformat": 4,
 "nbformat_minor": 2
}
