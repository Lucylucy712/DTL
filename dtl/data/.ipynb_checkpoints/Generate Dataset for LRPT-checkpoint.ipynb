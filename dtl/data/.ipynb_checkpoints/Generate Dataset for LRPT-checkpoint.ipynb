{
 "cells": [
  {
   "cell_type": "code",
   "execution_count": 1,
   "metadata": {},
   "outputs": [
    {
     "name": "stderr",
     "output_type": "stream",
     "text": [
      "2022-03-26 20:20:39.326909: W tensorflow/stream_executor/platform/default/dso_loader.cc:64] Could not load dynamic library 'libcudart.so.11.0'; dlerror: libcudart.so.11.0: cannot open shared object file: No such file or directory; LD_LIBRARY_PATH: /cm/shared/apps/slurm/16.05.8/lib64/slurm:/cm/shared/apps/slurm/16.05.8/lib64\n",
      "2022-03-26 20:20:39.326941: I tensorflow/stream_executor/cuda/cudart_stub.cc:29] Ignore above cudart dlerror if you do not have a GPU set up on your machine.\n"
     ]
    }
   ],
   "source": [
    "import os \n",
    "import numpy as np \n",
    "import pandas as pd \n",
    "import tensorflow as tf\n",
    "import pickle\n",
    "import copy\n",
    "os.chdir(\"/endosome/work/PCDC/s202005/Research/TransferLearning/Shelburne/Codes\")\n",
    "from general.commonfuns import *"
   ]
  },
  {
   "cell_type": "markdown",
   "metadata": {},
   "source": [
    "# Get PARP and Anti Index"
   ]
  },
  {
   "cell_type": "code",
   "execution_count": 7,
   "metadata": {},
   "outputs": [],
   "source": [
    "PARP = pd.read_pickle(\"/work/PCDC/s202005/Research/PARP/Data/Train/antibiogram_full.pkl\")"
   ]
  },
  {
   "cell_type": "code",
   "execution_count": 18,
   "metadata": {},
   "outputs": [],
   "source": [
    "anti_index_list = PARP[[\"antibiotics\",\"antibiotics_index\"]].drop_duplicates().sort_values([\"antibiotics_index\"])\n",
    "anti_index_list.index = range(len(anti_index_list))"
   ]
  },
  {
   "cell_type": "markdown",
   "metadata": {},
   "source": [
    "## Step 1: Generate full dataset using shelburne"
   ]
  },
  {
   "cell_type": "code",
   "execution_count": 19,
   "metadata": {
    "collapsed": true
   },
   "outputs": [],
   "source": [
    "data_dic = \"/work/PCDC/s202005/Research/common/Data/genetic_data/purified_data\"\n",
    "temp_path = os.path.join(data_dic,\"Shelburne_VAMP.csv\")\n",
    "VAMP = pd.read_csv(temp_path)\n",
    "\n",
    "temp_path = os.path.join(data_dic,\"Shelburne_phenotype.csv\")\n",
    "TYPE = pd.read_csv(temp_path)\n",
    "TYPE.set_index(\"sample_id\",inplace=True)\n",
    "\n",
    "pivot_m = VAMP.pivot_table(index=\"sample_id\",columns=\"variants\",aggfunc=\"size\",fill_value=0)\n",
    "temp = pd.merge(TYPE,pivot_m,how = \"left\",left_index=True,right_index = True)"
   ]
  },
  {
   "cell_type": "code",
   "execution_count": 28,
   "metadata": {},
   "outputs": [
    {
     "data": {
      "text/plain": [
       "1"
      ]
     },
     "execution_count": 28,
     "metadata": {},
     "output_type": "execute_result"
    }
   ],
   "source": [
    "## modify Antibiotics value \n",
    "temp = pd.merge(temp,anti_index_list,how=\"left\",left_on = \"antibiotics\",right_on = \"antibiotics\")"
   ]
  },
  {
   "cell_type": "code",
   "execution_count": 31,
   "metadata": {
    "collapsed": true
   },
   "outputs": [],
   "source": [
    "## modify phenotype value \n",
    "temp[\"phenotypenum\"] = temp.apply(lambda x: 1 if x[\"phenotype\"]==\"resistant\" else 0, axis=1)"
   ]
  },
  {
   "cell_type": "code",
   "execution_count": 32,
   "metadata": {
    "collapsed": true
   },
   "outputs": [],
   "source": [
    "## change column order \n",
    "col_list = [\"bacteria\",\"antibiotics\",\"antibiotics_index\",\"phenotype\",\"phenotypenum\"] + [ele for ele in temp.columns if ele.startswith(\"K\")]\n",
    "temp = temp[col_list]"
   ]
  },
  {
   "cell_type": "code",
   "execution_count": 33,
   "metadata": {
    "collapsed": true
   },
   "outputs": [],
   "source": [
    "save_dic = \"/work/PCDC/s202005/Research/TransferLearning/Shelburne/Data/Train\"\n",
    "os.makedirs(save_dic,exist_ok=True)\n",
    "temp.to_pickle(os.path.join(save_dic,\"shelburne_for_LRPT_full.pkl\"))"
   ]
  },
  {
   "cell_type": "markdown",
   "metadata": {},
   "source": [
    "## Step 2: Generate information table for TransferLearning"
   ]
  },
  {
   "cell_type": "code",
   "execution_count": 34,
   "metadata": {
    "collapsed": true
   },
   "outputs": [],
   "source": [
    "temp = open_pickle(\"/work/PCDC/s202005/Research/TransferLearning/Shelburne/Data/Train/shelburne_for_LRPT_full.pkl\")\n",
    "temp.dropna(inplace=True)"
   ]
  },
  {
   "cell_type": "code",
   "execution_count": 38,
   "metadata": {},
   "outputs": [],
   "source": [
    "col_order = list(temp.columns[5:])\n",
    "col_order = pd.DataFrame(col_order,columns=[\"col_order\"])\n",
    "save_dic = \"/work/PCDC/s202005/Research/TransferLearning/Shelburne/Data/Train/TLPARP\"\n",
    "os.makedirs(save_dic,exist_ok=True)\n",
    "col_order.to_csv(os.path.join(save_dic,\"shelburne_col_order.csv\"),index=False)"
   ]
  },
  {
   "cell_type": "code",
   "execution_count": 39,
   "metadata": {
    "collapsed": true
   },
   "outputs": [],
   "source": [
    "temp.iloc[:,:5].to_csv(\"/work/PCDC/s202005/Research/TransferLearning/Shelburne/Data/Train/TLPARP/shelburne_info.csv\")"
   ]
  },
  {
   "cell_type": "code",
   "execution_count": 40,
   "metadata": {
    "collapsed": true
   },
   "outputs": [],
   "source": [
    "save_dic = \"/work/PCDC/s202005/Research/TransferLearning/Shelburne/Data/Train/TLPARP\"\n",
    "os.makedirs(save_dic,exist_ok=True)\n",
    "temp.to_pickle(os.path.join(save_dic,\"shelburne_full.pkl\"))"
   ]
  },
  {
   "cell_type": "markdown",
   "metadata": {},
   "source": [
    "## Step 3: generate 3 sets for the transferlearning from the 2nd "
   ]
  },
  {
   "cell_type": "code",
   "execution_count": 41,
   "metadata": {
    "collapsed": true
   },
   "outputs": [],
   "source": [
    "col_list = pd.read_csv(\"/work/PCDC/s202005/Research/TransferLearning/Shelburne/Data/Train/TLPARP/shelburne_col_order.csv\")\n",
    "col_list = list(col_list.col_order)"
   ]
  },
  {
   "cell_type": "code",
   "execution_count": 44,
   "metadata": {},
   "outputs": [],
   "source": [
    "temp = open_pickle(\"/work/PCDC/s202005/Research/TransferLearning/Shelburne/Data/Train/TLPARP/shelburne_full.pkl\")"
   ]
  },
  {
   "cell_type": "code",
   "execution_count": 45,
   "metadata": {
    "collapsed": true
   },
   "outputs": [],
   "source": [
    "## get variants\n",
    "Variants = temp[col_list]"
   ]
  },
  {
   "cell_type": "code",
   "execution_count": 48,
   "metadata": {
    "collapsed": true
   },
   "outputs": [],
   "source": [
    "## get Antibiotics\n",
    "## Since we want to put it into PARP transfer learning, we need to use the PARP num classes of Antibiotics \n",
    "Antibiotics=tf.keras.utils.to_categorical(temp[\"antibiotics_index\"],num_classes = len(anti_index_list))\n",
    "Antibiotics = pd.DataFrame(Antibiotics)\n",
    "Antibiotics.index = Variants.index"
   ]
  },
  {
   "cell_type": "code",
   "execution_count": 50,
   "metadata": {
    "collapsed": true
   },
   "outputs": [],
   "source": [
    "## get Results \n",
    "Results = copy.deepcopy(temp[[\"phenotypenum\"]])\n",
    "Results.rename(columns={\"phenotypenum\":\"Results\"},inplace=True)"
   ]
  },
  {
   "cell_type": "code",
   "execution_count": 51,
   "metadata": {
    "collapsed": true
   },
   "outputs": [],
   "source": [
    "data = (Variants,Antibiotics,Results)\n",
    "path = \"/work/PCDC/s202005/Research/TransferLearning/Shelburne/Data/Train/TLPARP/shelburne_3sets.pkl\"\n",
    "save_as_pickle(data,path)"
   ]
  },
  {
   "cell_type": "markdown",
   "metadata": {},
   "source": [
    "##  Step 4: generate 3 sets for the transferlearning from the 2nd "
   ]
  },
  {
   "cell_type": "code",
   "execution_count": 52,
   "metadata": {
    "collapsed": true
   },
   "outputs": [],
   "source": [
    "col_list = pd.read_csv(\"/work/PCDC/s202005/Research/TransferLearning/Shelburne/Data/Train/TLPARP/shelburne_col_order.csv\")\n",
    "col_list = list(col_list.col_order)\n",
    "temp = open_pickle(\"/work/PCDC/s202005/Research/TransferLearning/Shelburne/Data/Train/TLPARP/shelburne_full.pkl\")"
   ]
  },
  {
   "cell_type": "code",
   "execution_count": 53,
   "metadata": {
    "collapsed": true
   },
   "outputs": [],
   "source": [
    "from sklearn.model_selection import train_test_split\n",
    "Train,Test = train_test_split(temp, test_size=0.33, random_state=42)"
   ]
  },
  {
   "cell_type": "code",
   "execution_count": 54,
   "metadata": {
    "collapsed": true
   },
   "outputs": [],
   "source": [
    "Train.sort_index(inplace=True)\n",
    "Test.sort_index(inplace=True)"
   ]
  },
  {
   "cell_type": "code",
   "execution_count": 55,
   "metadata": {
    "collapsed": true
   },
   "outputs": [],
   "source": [
    "save_dic = \"/work/PCDC/s202005/Research/TransferLearning/Shelburne/Data/Train/TLPARP_TrainTest\"\n",
    "os.makedirs(save_dic,exist_ok=True)\n",
    "Train.iloc[:,:5].to_csv(os.path.join(save_dic,\"shelburne_train_info.csv\"))\n",
    "Test.iloc[:,:5].to_csv(os.path.join(save_dic,\"shelburne_test_info.csv\"))"
   ]
  },
  {
   "cell_type": "code",
   "execution_count": 58,
   "metadata": {
    "collapsed": true
   },
   "outputs": [],
   "source": [
    "save_dic = \"/work/PCDC/s202005/Research/TransferLearning/Shelburne/Data/Train/TLPARP_TrainTest\"\n",
    "\n",
    "temp = copy.deepcopy(Train)\n",
    "Variants = temp[col_list]\n",
    "Antibiotics=tf.keras.utils.to_categorical(temp[\"antibiotics_index\"],num_classes = len(anti_index_list))\n",
    "Antibiotics = pd.DataFrame(Antibiotics)\n",
    "Antibiotics.index = Variants.index\n",
    "\n",
    "Results = copy.deepcopy(temp[[\"phenotypenum\"]])\n",
    "Results.rename(columns={\"phenotypenum\":\"Results\"},inplace=True)\n",
    "\n",
    "data = (Variants,Antibiotics,Results)\n",
    "path = os.path.join(save_dic,\"shelburne_train_3sets.pkl\")\n",
    "save_as_pickle(data,path)"
   ]
  }
 ],
 "metadata": {
  "kernelspec": {
   "display_name": "Research",
   "language": "python",
   "name": "research"
  },
  "language_info": {
   "codemirror_mode": {
    "name": "ipython",
    "version": 3
   },
   "file_extension": ".py",
   "mimetype": "text/x-python",
   "name": "python",
   "nbconvert_exporter": "python",
   "pygments_lexer": "ipython3",
   "version": "3.9.7"
  }
 },
 "nbformat": 4,
 "nbformat_minor": 2
}
