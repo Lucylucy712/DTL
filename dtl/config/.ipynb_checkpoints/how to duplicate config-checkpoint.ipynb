{
 "cells": [
  {
   "cell_type": "code",
   "execution_count": 1,
   "metadata": {
    "collapsed": true
   },
   "outputs": [],
   "source": [
    "import os \n",
    "import yaml"
   ]
  },
  {
   "cell_type": "markdown",
   "metadata": {},
   "source": [
    "# Work 2: Duplicate LRPT folder with different PARP model"
   ]
  },
  {
   "cell_type": "code",
   "execution_count": 2,
   "metadata": {
    "collapsed": true
   },
   "outputs": [],
   "source": [
    "# load template \n",
    "source_file = \"/endosome/work/PCDC/s202005/Research/TransferLearning/Shelburne/Codes/config/Scratchtemplate.yaml\"\n",
    "with open(source_file) as f:\n",
    "    list_doc = yaml.safe_load(f)"
   ]
  },
  {
   "cell_type": "code",
   "execution_count": 3,
   "metadata": {
    "collapsed": true
   },
   "outputs": [],
   "source": [
    "#\n",
    "target_folder = \"/endosome/work/PCDC/s202005/Research/TransferLearning/Shelburne/Codes/config/Single_1_Anti_2_Dense_1024_Scratch_Ensemble\""
   ]
  },
  {
   "cell_type": "code",
   "execution_count": 4,
   "metadata": {
    "collapsed": true
   },
   "outputs": [],
   "source": [
    "BATCH_LIST = [16,32,64,128]\n",
    "EPOCHS_LIST = [10,20,50,100]"
   ]
  },
  {
   "cell_type": "code",
   "execution_count": 9,
   "metadata": {
    "collapsed": true
   },
   "outputs": [],
   "source": [
    "for batch in BATCH_LIST:\n",
    "    for epochs in EPOCHS_LIST:\n",
    "        target_path = \"Batch_\"+str(batch)+\"_Epochs_\"+str(epochs)+\".yaml\"\n",
    "        list_doc[\"ScratchTrain\"][\"EPOCHS\"] = int(epochs)\n",
    "        list_doc[\"ScratchTrain\"][\"BATCH_SIZE\"] = int(batch)\n",
    "        with open(os.path.join(target_folder,target_path),\"w\") as f:\n",
    "            yaml.dump(list_doc,f)"
   ]
  }
 ],
 "metadata": {
  "kernelspec": {
   "display_name": "Research",
   "language": "python",
   "name": "research"
  },
  "language_info": {
   "codemirror_mode": {
    "name": "ipython",
    "version": 3
   },
   "file_extension": ".py",
   "mimetype": "text/x-python",
   "name": "python",
   "nbconvert_exporter": "python",
   "pygments_lexer": "ipython3",
   "version": "3.9.7"
  }
 },
 "nbformat": 4,
 "nbformat_minor": 2
}
